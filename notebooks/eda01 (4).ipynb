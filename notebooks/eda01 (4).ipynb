{
 "cells": [
  {
   "cell_type": "code",
   "execution_count": null,
   "metadata": {
    "_cell_guid": "b1076dfc-b9ad-4769-8c92-a6c4dae69d19",
    "_uuid": "8f2839f25d086af736a60e9eeb907d3b93b6e0e5",
    "execution": {
     "iopub.execute_input": "2025-05-22T12:40:01.321594Z",
     "iopub.status.busy": "2025-05-22T12:40:01.321101Z",
     "iopub.status.idle": "2025-05-22T12:40:04.160950Z",
     "shell.execute_reply": "2025-05-22T12:40:04.158043Z",
     "shell.execute_reply.started": "2025-05-22T12:40:01.321559Z"
    },
    "trusted": true
   },
   "outputs": [],
   "source": [
    "# This Python 3 environment comes with many helpful analytics libraries installed\n",
    "# It is defined by the kaggle/python Docker image: https://github.com/kaggle/docker-python\n",
    "# For example, here's several helpful packages to load\n",
    "\n",
    "import numpy as np # linear algebra\n",
    "import pandas as pd # data processing, CSV file I/O (e.g. pd.read_csv)\n",
    "\n",
    "# Input data files are available in the read-only \"../input/\" directory\n",
    "# For example, running this (by clicking run or pressing Shift+Enter) will list all files under the input directory\n",
    "\n",
    "import os\n",
    "for dirname, _, filenames in os.walk('/kaggle/input'):\n",
    "    for filename in filenames:\n",
    "        print(os.path.join(dirname, filename))\n",
    "\n",
    "# You can write up to 20GB to the current directory (/kaggle/working/) that gets preserved as output when you create a version using \"Save & Run All\" \n",
    "# You can also write temporary files to /kaggle/temp/, but they won't be saved outside of the current session"
   ]
  },
  {
   "cell_type": "code",
   "execution_count": null,
   "metadata": {
    "execution": {
     "iopub.execute_input": "2025-05-22T12:40:04.163573Z",
     "iopub.status.busy": "2025-05-22T12:40:04.162254Z",
     "iopub.status.idle": "2025-05-22T12:40:07.101845Z",
     "shell.execute_reply": "2025-05-22T12:40:07.099791Z",
     "shell.execute_reply.started": "2025-05-22T12:40:04.163516Z"
    },
    "trusted": true
   },
   "outputs": [],
   "source": [
    "import pandas as pd \n",
    "import numpy as np \n",
    "import matplotlib.pyplot as plt \n",
    "import seaborn as sns "
   ]
  },
  {
   "cell_type": "code",
   "execution_count": null,
   "metadata": {
    "execution": {
     "iopub.execute_input": "2025-05-22T12:40:07.105613Z",
     "iopub.status.busy": "2025-05-22T12:40:07.104591Z",
     "iopub.status.idle": "2025-05-22T12:40:07.305983Z",
     "shell.execute_reply": "2025-05-22T12:40:07.303575Z",
     "shell.execute_reply.started": "2025-05-22T12:40:07.105554Z"
    },
    "trusted": true
   },
   "outputs": [],
   "source": [
    "df = pd.read_csv(\"/kaggle/input/e-commerce-dataset/FashionDataset.csv\")\n",
    "df.head()"
   ]
  },
  {
   "cell_type": "code",
   "execution_count": null,
   "metadata": {
    "execution": {
     "iopub.execute_input": "2025-05-22T12:40:07.312944Z",
     "iopub.status.busy": "2025-05-22T12:40:07.312444Z",
     "iopub.status.idle": "2025-05-22T12:40:07.410770Z",
     "shell.execute_reply": "2025-05-22T12:40:07.409192Z",
     "shell.execute_reply.started": "2025-05-22T12:40:07.312908Z"
    },
    "trusted": true
   },
   "outputs": [],
   "source": [
    "print(\"Exploring the d_set  : \\n\")\n",
    "print(\"Information of the dataset :\\n\", df.info(),\"\\n\")\n",
    "print(\"Shape of the dataset: \\n\",df.shape ,\"\\n\")\n",
    "print(\"Description :\\n\",df.describe(),\"\\n\")\n",
    "print(\"Data type of each column :\\n\",df.dtypes,\"\\n\")\n",
    "print(\"Head of the dataset :\\n\",df.head(5),\"\\n\")\n",
    "print(\"Tail of the dataset :\\n\",df.tail(5),\"\\n\")\n",
    "print(\"Some random sample :\\n\",df.sample(15),\"\\n\")"
   ]
  },
  {
   "cell_type": "code",
   "execution_count": null,
   "metadata": {
    "execution": {
     "iopub.execute_input": "2025-05-22T12:40:07.412814Z",
     "iopub.status.busy": "2025-05-22T12:40:07.412009Z",
     "iopub.status.idle": "2025-05-22T12:40:07.421725Z",
     "shell.execute_reply": "2025-05-22T12:40:07.420560Z",
     "shell.execute_reply.started": "2025-05-22T12:40:07.412776Z"
    },
    "trusted": true
   },
   "outputs": [],
   "source": [
    "#metadata\n",
    "df.columns.tolist() "
   ]
  },
  {
   "cell_type": "markdown",
   "metadata": {},
   "source": [
    "**Cleaning and preprocessing**"
   ]
  },
  {
   "cell_type": "code",
   "execution_count": null,
   "metadata": {
    "execution": {
     "iopub.execute_input": "2025-05-22T12:40:07.423703Z",
     "iopub.status.busy": "2025-05-22T12:40:07.423087Z",
     "iopub.status.idle": "2025-05-22T12:40:07.468554Z",
     "shell.execute_reply": "2025-05-22T12:40:07.466825Z",
     "shell.execute_reply.started": "2025-05-22T12:40:07.423587Z"
    },
    "trusted": true
   },
   "outputs": [],
   "source": [
    "df.isnull().sum()   "
   ]
  },
  {
   "cell_type": "code",
   "execution_count": null,
   "metadata": {
    "execution": {
     "iopub.execute_input": "2025-05-22T12:40:07.471757Z",
     "iopub.status.busy": "2025-05-22T12:40:07.470663Z",
     "iopub.status.idle": "2025-05-22T12:40:07.542634Z",
     "shell.execute_reply": "2025-05-22T12:40:07.538949Z",
     "shell.execute_reply.started": "2025-05-22T12:40:07.471714Z"
    },
    "trusted": true
   },
   "outputs": [],
   "source": [
    "df1 = df.drop_duplicates()\n",
    "df1.shape"
   ]
  },
  {
   "cell_type": "code",
   "execution_count": null,
   "metadata": {
    "execution": {
     "iopub.execute_input": "2025-05-22T12:40:07.553885Z",
     "iopub.status.busy": "2025-05-22T12:40:07.553229Z",
     "iopub.status.idle": "2025-05-22T12:40:07.707289Z",
     "shell.execute_reply": "2025-05-22T12:40:07.705128Z",
     "shell.execute_reply.started": "2025-05-22T12:40:07.553852Z"
    },
    "trusted": true
   },
   "outputs": [],
   "source": [
    "df[\"Sizes\"] = df[\"Sizes\"].str.replace(\"Size:\",\"\",regex=True)\n",
    "df[\"Sizes\"] = df[\"Sizes\"].str.split(\",\").astype(str)"
   ]
  },
  {
   "cell_type": "code",
   "execution_count": null,
   "metadata": {
    "execution": {
     "iopub.execute_input": "2025-05-22T12:40:07.709718Z",
     "iopub.status.busy": "2025-05-22T12:40:07.709338Z",
     "iopub.status.idle": "2025-05-22T12:40:07.784289Z",
     "shell.execute_reply": "2025-05-22T12:40:07.782521Z",
     "shell.execute_reply.started": "2025-05-22T12:40:07.709687Z"
    },
    "trusted": true
   },
   "outputs": [],
   "source": [
    "df[\"MRP\"]=df[\"MRP\"].astype(str).str.replace(\"Rs\\n\",  \"\").astype(float)\n",
    "df[\"SellPrice\"] = df[\"SellPrice\"].astype(float)\n",
    "\n",
    "df[\"Discount\"] = df[\"Discount\"].astype(str).str.replace(\"% off\",  \"\").astype(float)/100\n",
    "df[\"Category\"] = df[\"Category\"].str.replace(\"-Women\",\"\").astype(\"category\")\n",
    "\n",
    "df[\"Deatils\"] = df[\"Deatils\"].astype(\"string\")\n",
    "df[\"BrandName\"] = df[\"BrandName\"].astype(str)"
   ]
  },
  {
   "cell_type": "code",
   "execution_count": null,
   "metadata": {
    "execution": {
     "iopub.execute_input": "2025-05-22T12:40:07.789473Z",
     "iopub.status.busy": "2025-05-22T12:40:07.788164Z",
     "iopub.status.idle": "2025-05-22T12:40:07.805118Z",
     "shell.execute_reply": "2025-05-22T12:40:07.802749Z",
     "shell.execute_reply.started": "2025-05-22T12:40:07.789440Z"
    },
    "trusted": true
   },
   "outputs": [],
   "source": [
    "df = df.drop(\"Unnamed: 0\",axis=\"columns\")"
   ]
  },
  {
   "cell_type": "code",
   "execution_count": null,
   "metadata": {
    "execution": {
     "iopub.execute_input": "2025-05-22T12:40:07.807027Z",
     "iopub.status.busy": "2025-05-22T12:40:07.806689Z",
     "iopub.status.idle": "2025-05-22T12:40:07.866693Z",
     "shell.execute_reply": "2025-05-22T12:40:07.863614Z",
     "shell.execute_reply.started": "2025-05-22T12:40:07.806999Z"
    },
    "trusted": true
   },
   "outputs": [],
   "source": [
    "df.sample(10)"
   ]
  },
  {
   "cell_type": "code",
   "execution_count": null,
   "metadata": {
    "execution": {
     "iopub.execute_input": "2025-05-22T12:40:07.870673Z",
     "iopub.status.busy": "2025-05-22T12:40:07.870069Z",
     "iopub.status.idle": "2025-05-22T12:40:07.907147Z",
     "shell.execute_reply": "2025-05-22T12:40:07.904676Z",
     "shell.execute_reply.started": "2025-05-22T12:40:07.870636Z"
    },
    "trusted": true
   },
   "outputs": [],
   "source": [
    "df = df.dropna(subset=[\"MRP\"])\n",
    "'''After dropping Nan values from MRP the Nan values from Sellprice and Discount also removed because \n",
    "They were related'''"
   ]
  },
  {
   "cell_type": "code",
   "execution_count": null,
   "metadata": {
    "execution": {
     "iopub.execute_input": "2025-05-22T12:40:07.912058Z",
     "iopub.status.busy": "2025-05-22T12:40:07.909871Z",
     "iopub.status.idle": "2025-05-22T12:40:07.949473Z",
     "shell.execute_reply": "2025-05-22T12:40:07.946032Z",
     "shell.execute_reply.started": "2025-05-22T12:40:07.912014Z"
    },
    "trusted": true
   },
   "outputs": [],
   "source": [
    "df.sample(10)"
   ]
  },
  {
   "cell_type": "code",
   "execution_count": null,
   "metadata": {
    "execution": {
     "iopub.execute_input": "2025-05-22T12:40:07.952262Z",
     "iopub.status.busy": "2025-05-22T12:40:07.951844Z",
     "iopub.status.idle": "2025-05-22T12:40:08.020444Z",
     "shell.execute_reply": "2025-05-22T12:40:08.015105Z",
     "shell.execute_reply.started": "2025-05-22T12:40:07.952230Z"
    },
    "trusted": true
   },
   "outputs": [],
   "source": [
    "def unique_data_count(df):\n",
    "    print(\"*************************************\")\n",
    "    print(\"Number of unique data in each column :\")\n",
    "    print(\"*************************************\")\n",
    "    print(\"Brandname :\",df.BrandName.nunique(),\"\\n\")\n",
    "    print(\"Details: \",df.Deatils.nunique(),\"\\n\")\n",
    "    print(\"Sizes :\",df.Sizes.nunique(),\"\\n\")\n",
    "    print(\"Category :\",df.Category.nunique(),\"\\n\")\n",
    "unique_data_count(df)"
   ]
  },
  {
   "cell_type": "code",
   "execution_count": null,
   "metadata": {
    "execution": {
     "iopub.execute_input": "2025-05-22T12:40:08.033724Z",
     "iopub.status.busy": "2025-05-22T12:40:08.032808Z",
     "iopub.status.idle": "2025-05-22T12:40:08.042355Z",
     "shell.execute_reply": "2025-05-22T12:40:08.041003Z",
     "shell.execute_reply.started": "2025-05-22T12:40:08.033684Z"
    },
    "trusted": true
   },
   "outputs": [],
   "source": [
    "df.rename(columns={'Deatils': 'Details'}, inplace=True)"
   ]
  },
  {
   "cell_type": "code",
   "execution_count": null,
   "metadata": {
    "execution": {
     "iopub.execute_input": "2025-05-22T12:40:08.044493Z",
     "iopub.status.busy": "2025-05-22T12:40:08.043351Z",
     "iopub.status.idle": "2025-05-22T12:40:08.731376Z",
     "shell.execute_reply": "2025-05-22T12:40:08.730152Z",
     "shell.execute_reply.started": "2025-05-22T12:40:08.044455Z"
    },
    "trusted": true
   },
   "outputs": [],
   "source": [
    "df[\"Category\"].value_counts().plot(kind=\"bar\",figsize=(9, 5))\n",
    "plt.xlabel(\"Category\")\n",
    "plt.ylabel(\"Count\")\n",
    "plt.title(\"Count based on category\")\n",
    "plt.show()"
   ]
  },
  {
   "cell_type": "code",
   "execution_count": null,
   "metadata": {
    "execution": {
     "iopub.execute_input": "2025-05-22T12:40:08.732629Z",
     "iopub.status.busy": "2025-05-22T12:40:08.732275Z",
     "iopub.status.idle": "2025-05-22T12:40:09.542527Z",
     "shell.execute_reply": "2025-05-22T12:40:09.540493Z",
     "shell.execute_reply.started": "2025-05-22T12:40:08.732601Z"
    },
    "trusted": true
   },
   "outputs": [],
   "source": [
    "from scipy.stats import skew, kurtosis\n",
    "def Sellprice_analysis(df):\n",
    "    print(df[\"SellPrice\"].describe())\n",
    "\n",
    "    #looking for Distribution of the data \n",
    "    plt.figure(figsize=(8, 2))\n",
    "    sns.boxplot(x=df[\"SellPrice\"], color=\"lightgreen\")\n",
    "    plt.title(\"Boxplot of SellPrice\")\n",
    "    plt.xlabel(\"SellPrice\")\n",
    "    plt.show()\n",
    "\n",
    "    #Boxplot to spot outliers\n",
    "    plt.figure(figsize=(10, 5))\n",
    "    sns.histplot(df[\"SellPrice\"], bins=20, kde=True, color=\"red\")\n",
    "    plt.title(\"Distribution of SellPrice\")\n",
    "    plt.xlabel(\"SellPrice\")\n",
    "    plt.ylabel(\"Count\")\n",
    "    plt.show()\n",
    "\n",
    "    #Numerical sense of distribution\n",
    "    print(\"**********************\")\n",
    "    print(\"Skewness and Kurtosis\")\n",
    "    print(\"**********************\")\n",
    "    print(\"Skewness:\", skew(df[\"SellPrice\"].dropna()))\n",
    "    print(\"Kurtosis:\", kurtosis(df[\"SellPrice\"].dropna()))\n",
    "    \n",
    "\n",
    "Sellprice_analysis(df)"
   ]
  },
  {
   "cell_type": "code",
   "execution_count": null,
   "metadata": {
    "execution": {
     "iopub.execute_input": "2025-05-22T12:40:09.545190Z",
     "iopub.status.busy": "2025-05-22T12:40:09.544759Z",
     "iopub.status.idle": "2025-05-22T12:40:09.575555Z",
     "shell.execute_reply": "2025-05-22T12:40:09.572810Z",
     "shell.execute_reply.started": "2025-05-22T12:40:09.545158Z"
    },
    "trusted": true
   },
   "outputs": [],
   "source": [
    "Q1 = df[\"SellPrice\"].quantile(0.25)\n",
    "Q3 = df[\"SellPrice\"].quantile(0.75)\n",
    "\n",
    "IQR = Q3 - Q1\n",
    "lower_bound = Q1 - 1.5 * IQR\n",
    "upper_bound = Q3 + 1.5 * IQR\n",
    "\n",
    "df = df[(df[\"SellPrice\"] >= lower_bound) & (df[\"SellPrice\"] <= upper_bound)]\n",
    "\n",
    "\n",
    "print(\"********************************************\")\n",
    "print(\"Skewness and kurtosis after outlier removal \")\n",
    "print(\"********************************************\")\n",
    "print(\"Skewness:\", skew(df[\"SellPrice\"].dropna()))\n",
    "print(\"Kurtosis:\", kurtosis(df[\"SellPrice\"].dropna()))\n"
   ]
  },
  {
   "cell_type": "code",
   "execution_count": null,
   "metadata": {
    "execution": {
     "iopub.execute_input": "2025-05-22T12:40:09.576771Z",
     "iopub.status.busy": "2025-05-22T12:40:09.576446Z",
     "iopub.status.idle": "2025-05-22T12:40:09.662152Z",
     "shell.execute_reply": "2025-05-22T12:40:09.660959Z",
     "shell.execute_reply.started": "2025-05-22T12:40:09.576742Z"
    },
    "trusted": true
   },
   "outputs": [],
   "source": [
    "#Brand with less than 5 products will be treated as other from now \n",
    "df[\"BrandName\"].nunique()\n",
    "brand_counts = df[\"BrandName\"].value_counts()\n",
    "rare_brands = brand_counts[brand_counts < 5].index\n",
    "df[\"BrandName\"] = df[\"BrandName\"].apply(lambda x: \"Other\" if x in rare_brands else x)\n",
    "df.shape"
   ]
  },
  {
   "cell_type": "code",
   "execution_count": null,
   "metadata": {
    "_kg_hide-input": false,
    "execution": {
     "iopub.execute_input": "2025-05-22T12:40:09.664262Z",
     "iopub.status.busy": "2025-05-22T12:40:09.663657Z",
     "iopub.status.idle": "2025-05-22T12:40:09.717396Z",
     "shell.execute_reply": "2025-05-22T12:40:09.716276Z",
     "shell.execute_reply.started": "2025-05-22T12:40:09.664229Z"
    },
    "trusted": true
   },
   "outputs": [],
   "source": [
    "# Duplicates\n",
    "print(\"Duplicate Rows:\", df.duplicated().sum())\n",
    "\n",
    "\n",
    "#Negative or zero  values \n",
    "for col in df.select_dtypes(include=[\"float64\",\"int64\"]).columns:\n",
    "    if(df[col] <= 0).any():\n",
    "        print(f\"Warning The data in {col} is zero or negative \")\n",
    "\n",
    "# Categorical inconsistncies\n",
    "for col in df.select_dtypes(include=['object']).columns:\n",
    "    print(f\"Unique values in {col}:\", df[col].unique())\n"
   ]
  },
  {
   "cell_type": "code",
   "execution_count": null,
   "metadata": {
    "execution": {
     "iopub.execute_input": "2025-05-22T12:40:09.718385Z",
     "iopub.status.busy": "2025-05-22T12:40:09.718130Z",
     "iopub.status.idle": "2025-05-22T12:40:10.205815Z",
     "shell.execute_reply": "2025-05-22T12:40:10.203809Z",
     "shell.execute_reply.started": "2025-05-22T12:40:09.718365Z"
    },
    "trusted": true
   },
   "outputs": [],
   "source": [
    "# Classification: Check class imbalance\n",
    "print(\"Target Distribution:\")\n",
    "print(df['SellPrice'].value_counts(normalize=True))\n",
    "\n",
    "# Regression: target distribution\n",
    "if df['SellPrice'].dtype in ['float64', 'int64']:\n",
    "    sns.histplot(df['SellPrice'], kde=True)\n",
    "    plt.title(\"Target Variable Distribution\")\n",
    "    plt.show()\n"
   ]
  },
  {
   "cell_type": "code",
   "execution_count": null,
   "metadata": {
    "execution": {
     "iopub.execute_input": "2025-05-22T12:40:10.209911Z",
     "iopub.status.busy": "2025-05-22T12:40:10.209596Z",
     "iopub.status.idle": "2025-05-22T12:40:11.748605Z",
     "shell.execute_reply": "2025-05-22T12:40:11.746890Z",
     "shell.execute_reply.started": "2025-05-22T12:40:10.209885Z"
    },
    "trusted": true
   },
   "outputs": [],
   "source": [
    "from scipy.stats import f_oneway, chi2_contingency\n",
    "\n",
    "# ANOVA--> numerical features vs target (classification)\n",
    "anova_results = {}\n",
    "for col in df.select_dtypes(include=['float64', 'int64']).columns:\n",
    "    if col != 'SellPrice':\n",
    "        groups = [group[col].dropna() for name, group in df.groupby('SellPrice')]\n",
    "        if len(groups) > 1:\n",
    "            stat, p = f_oneway(*groups)\n",
    "            anova_results[col] = p\n",
    "anova_results = {k: v for k, v in anova_results.items() if v < 0.05}\n",
    "print(\"Significant features based on ANOVA (p < 0.05):\", anova_results)\n",
    "\n",
    "# Chi-squared--> categorical features vs target\n",
    "for col in df.select_dtypes(include=['object', 'category']).columns:\n",
    "    if col != 'SellPrice':\n",
    "        contingency = pd.crosstab(df[col], df['SellPrice'])\n",
    "        chi2, p, dof, ex = chi2_contingency(contingency)\n",
    "        print(f\"Chi-square test for {col} vs target: p-value = {p:.4f}\")\n"
   ]
  },
  {
   "cell_type": "code",
   "execution_count": null,
   "metadata": {
    "execution": {
     "iopub.execute_input": "2025-05-22T12:40:11.751506Z",
     "iopub.status.busy": "2025-05-22T12:40:11.750467Z",
     "iopub.status.idle": "2025-05-22T12:40:11.769293Z",
     "shell.execute_reply": "2025-05-22T12:40:11.768006Z",
     "shell.execute_reply.started": "2025-05-22T12:40:11.751477Z"
    },
    "trusted": true
   },
   "outputs": [],
   "source": [
    "df.sample(10)"
   ]
  },
  {
   "cell_type": "code",
   "execution_count": null,
   "metadata": {
    "execution": {
     "iopub.execute_input": "2025-05-22T12:40:11.771782Z",
     "iopub.status.busy": "2025-05-22T12:40:11.771313Z",
     "iopub.status.idle": "2025-05-22T12:40:13.076311Z",
     "shell.execute_reply": "2025-05-22T12:40:13.074839Z",
     "shell.execute_reply.started": "2025-05-22T12:40:11.771748Z"
    },
    "trusted": true
   },
   "outputs": [],
   "source": [
    "brand_avg_discount = df.groupby(\"BrandName\")[\"Discount\"].mean().sort_values(ascending=False)\n",
    "top_brands = brand_avg_discount.head(40) \n",
    "\n",
    "plt.figure(figsize=(15, 10))\n",
    "sns.barplot(x=top_brands.values, y=top_brands.index)\n",
    "plt.xlabel(\"Average Discount %\")\n",
    "plt.title(\"Top 20 Discount-Heavy Brands\")\n",
    "plt.tight_layout()\n",
    "plt.show()\n",
    "\n",
    "\n",
    "plt.figure(figsize=(8, 5))\n",
    "sns.histplot(df[\"Discount\"], bins=50, kde=True)\n",
    "plt.title(\"Distribution of Discount Percent\")\n",
    "plt.xlabel(\"Discount %\")\n",
    "plt.ylabel(\"Frequency\")\n",
    "plt.show()"
   ]
  },
  {
   "cell_type": "code",
   "execution_count": null,
   "metadata": {
    "execution": {
     "iopub.execute_input": "2025-05-22T12:40:13.077918Z",
     "iopub.status.busy": "2025-05-22T12:40:13.077546Z",
     "iopub.status.idle": "2025-05-22T12:40:14.233970Z",
     "shell.execute_reply": "2025-05-22T12:40:14.232176Z",
     "shell.execute_reply.started": "2025-05-22T12:40:13.077888Z"
    },
    "trusted": true
   },
   "outputs": [],
   "source": [
    "#Brand Average sellprice\n",
    "Brand_avg_sellprice = df.groupby(\"BrandName\")[\"SellPrice\"].mean().sort_values(ascending=False)\n",
    "Top_brands = Brand_avg_sellprice.head(30)\n",
    "\n",
    "plt.figure(figsize=(10,6))\n",
    "sns.barplot(x=Top_brands.values,y=Top_brands.index)\n",
    "plt.xlabel(\"Top Brand Names\")\n",
    "plt.title(\"Top 30 High Price brands\")\n",
    "plt.show()\n",
    "\n",
    "\n",
    "plt.figure(figsize=(15,8))\n",
    "sns.histplot(df[\"SellPrice\"],bins=30,kde=True)\n",
    "plt.xlabel(\"Sellprice\")\n",
    "plt.title(\"Distribution of SellPrice\")\n",
    "plt.show()"
   ]
  },
  {
   "cell_type": "code",
   "execution_count": null,
   "metadata": {
    "execution": {
     "iopub.execute_input": "2025-05-22T12:40:14.240100Z",
     "iopub.status.busy": "2025-05-22T12:40:14.239743Z",
     "iopub.status.idle": "2025-05-22T12:40:14.260345Z",
     "shell.execute_reply": "2025-05-22T12:40:14.258173Z",
     "shell.execute_reply.started": "2025-05-22T12:40:14.240078Z"
    },
    "trusted": true
   },
   "outputs": [],
   "source": [
    "df.sample(10)"
   ]
  },
  {
   "cell_type": "code",
   "execution_count": null,
   "metadata": {
    "execution": {
     "iopub.execute_input": "2025-05-22T12:40:14.261653Z",
     "iopub.status.busy": "2025-05-22T12:40:14.261300Z",
     "iopub.status.idle": "2025-05-22T12:40:14.587666Z",
     "shell.execute_reply": "2025-05-22T12:40:14.586505Z",
     "shell.execute_reply.started": "2025-05-22T12:40:14.261621Z"
    },
    "trusted": true
   },
   "outputs": [],
   "source": [
    "#Relation between Category and MRP\n",
    "plt.figure(figsize=(10,6))\n",
    "sns.scatterplot(x = df[\"SellPrice\"],y = df[\"Category\"],color=\"black\")\n",
    "plt.xlabel(\"SellPrice\")\n",
    "plt.ylabel(\"Category\")\n",
    "plt.show()"
   ]
  },
  {
   "cell_type": "code",
   "execution_count": null,
   "metadata": {
    "execution": {
     "iopub.execute_input": "2025-05-22T12:40:14.590499Z",
     "iopub.status.busy": "2025-05-22T12:40:14.589632Z",
     "iopub.status.idle": "2025-05-22T12:40:14.927984Z",
     "shell.execute_reply": "2025-05-22T12:40:14.926477Z",
     "shell.execute_reply.started": "2025-05-22T12:40:14.590464Z"
    },
    "trusted": true
   },
   "outputs": [],
   "source": [
    "#Discount On CAtegory\n",
    "sns.scatterplot(x = df[\"Discount\"],y = df[\"Category\"])"
   ]
  },
  {
   "cell_type": "code",
   "execution_count": null,
   "metadata": {
    "execution": {
     "iopub.execute_input": "2025-05-22T12:40:14.929183Z",
     "iopub.status.busy": "2025-05-22T12:40:14.928845Z",
     "iopub.status.idle": "2025-05-22T12:40:16.358534Z",
     "shell.execute_reply": "2025-05-22T12:40:16.357074Z",
     "shell.execute_reply.started": "2025-05-22T12:40:14.929157Z"
    },
    "trusted": true
   },
   "outputs": [],
   "source": [
    "#Histrogram view for numeric featutes\n",
    "df.select_dtypes(include=['float64', 'int64']).hist(figsize=(15, 10), bins=30)\n",
    "plt.tight_layout()\n",
    "plt.suptitle(\"Histograms of Numeric Features\", y=1.02)\n",
    "plt.show()\n",
    "\n",
    "#Correlation matrix \n",
    "plt.figure(figsize=(12, 8))\n",
    "corr = df.select_dtypes(include=['float64', 'int64']).corr()\n",
    "sns.heatmap(corr, annot=True, cmap='coolwarm', fmt=\".2f\")\n",
    "plt.title(\"Correlation Matrix Heatmap\")\n",
    "plt.show()\n"
   ]
  },
  {
   "cell_type": "code",
   "execution_count": null,
   "metadata": {
    "execution": {
     "iopub.execute_input": "2025-05-22T12:40:16.360194Z",
     "iopub.status.busy": "2025-05-22T12:40:16.359917Z",
     "iopub.status.idle": "2025-05-22T12:40:17.706612Z",
     "shell.execute_reply": "2025-05-22T12:40:17.705627Z",
     "shell.execute_reply.started": "2025-05-22T12:40:16.360174Z"
    },
    "trusted": true
   },
   "outputs": [],
   "source": [
    "contingency_table = pd.crosstab(df['BrandName'], df['Category'])\n",
    "\n",
    "#Display the contingency table head\n",
    "print(\"Contingency Table (BrandName vs. Category):\\n\", contingency_table.head())\n",
    "\n",
    "\n",
    "#top 40 brands for readability\n",
    "plt.figure(figsize=(15, 10))\n",
    "sns.heatmap(contingency_table.head(50), annot=True, cmap='YlGnBu', fmt='d')\n",
    "plt.title('Heatmap of BrandName vs. Category (Top 20 Brands)')\n",
    "plt.xlabel('Category')\n",
    "plt.ylabel('BrandName')\n",
    "plt.show()\n",
    "\n",
    "#Perform Chi-squared test\n",
    "chi2, p, dof, ex = chi2_contingency(contingency_table)\n",
    "\n",
    "print(f\"\\nChi-squared test for BrandName vs. Category:\")\n",
    "print(f\"Chi2 Statistic: {chi2:.2f}\")\n",
    "print(f\"P-value: {p:.4f}\")\n",
    "print(f\"Degrees of Freedom: {dof}\")\n",
    "\n",
    "#theory for   the p-value\n",
    "alpha = 0.05\n",
    "if p < alpha:\n",
    "    print(\"\\nSince the p-value is less than the significance level (0.05), we reject the null hypothesis.\")\n",
    "    print(\"There is a statistically significant relationship between BrandName and Category.\")\n",
    "else:\n",
    "    print(\"\\nSince the p-value is greater than the significance level (0.05), we fail to reject the null hypothesis.\")\n",
    "    print(\"There is no statistically significant relationship between BrandName and Category.\")"
   ]
  },
  {
   "cell_type": "code",
   "execution_count": null,
   "metadata": {
    "execution": {
     "iopub.execute_input": "2025-05-22T12:40:17.708713Z",
     "iopub.status.busy": "2025-05-22T12:40:17.708350Z",
     "iopub.status.idle": "2025-05-22T12:40:17.889542Z",
     "shell.execute_reply": "2025-05-22T12:40:17.888138Z",
     "shell.execute_reply.started": "2025-05-22T12:40:17.708689Z"
    },
    "trusted": true
   },
   "outputs": [],
   "source": [
    "# Save the cleaned dataset to a CSV file\n",
    "df.to_csv(\"/kaggle/working/Cleaned_FashionDataset.csv\", index=False)\n"
   ]
  },
  {
   "cell_type": "markdown",
   "metadata": {},
   "source": [
    "##  EDA Summary – Fashion Dataset (Dynamic Pricing Project)\n",
    "\n",
    "This notebook is part of my project to build a dynamic pricing engine. I performed Exploratory Data Analysis (EDA) on a fashion e-commerce dataset (`FashionDataset.csv`) to understand the structure, clean the data, and get it ready for modeling.\n",
    "\n",
    "*********\n",
    "\n",
    "###  Libraries Used:\n",
    "-->> `pandas` – for handling and cleaning data\n",
    "-->> `numpy` – for numeric operations\n",
    "-->> `matplotlib` & `seaborn` – for creating visualizations\n",
    "-->> `scipy.stats` – for statistical tests like ANOVA and Chi-squared\n",
    "\n",
    "************\n",
    "\n",
    "###  Main Steps:\n",
    "-->> Loaded the dataset and checked structure using `.head()`, `.info()`, `.describe()`\n",
    "-->> Removed duplicates and unnecessary columns (`Unnamed: 0`)\n",
    "-->> Cleaned and converted(Some data types) columns: `Sizes`, `MRP`, `SellPrice`, `Discount`,             'Category`, and `BrandName`.\n",
    "-->> Removed rows with missing `MRP`, and handled outliers in `SellPrice` using IQR\n",
    "-->> Grouped rare `BrandName` values into `'Other'` for better analysis\n",
    "\n",
    "**********\n",
    "\n",
    "###  Problems Faced:\n",
    "-->> **Inconsistent data types** (like strings with text in numeric columns)\n",
    "-->> **Outliers** in `SellPrice` were affecting distribution\n",
    "-->> **Too many unique brands**, so I grouped the less frequent ones\n",
    "-->> **Reset environment** required re-running preprocessing during work\n",
    "\n",
    "*********\n",
    "\n",
    "###  Key Findings:\n",
    "-->> `MRP` and `Discount` are strong predictors of `SellPrice`\n",
    "-->> Strong link between `BrandName` and `Category` (confirmed using Chi-squared test)\n",
    "-->> `Westernwear` is the most dominant category\n",
    "-->> Brands often specialize in specific categories (e.g., 'ajmal' in Fragrance)\n",
    "\n",
    "**********\n",
    "\n",
    "###  Usable for Modeling:\n",
    "-->> Cleaned `MRP`, `SellPrice`, and `Discount` (numeric and usable)\n",
    "-->> Simplified `BrandName` and `Category` (less cardinality, more meaningful)\n",
    "-->> Dataset is ready for feature engineering and training ML models\n",
    "\n",
    "*****\n",
    "\n",
    "###  What I’ll Do Next with This Dataset:\n",
    "Now that EDA is done, the next steps in my project are:\n",
    "\n",
    "- **Feature Engineering** : I’ll transform the cleaned data into features that machine learning models can understand. For example:\n",
    "  - Extract useful keywords or attributes from the `Details` column using text processing\n",
    "  - Convert categorical columns like `BrandName` and `Category` into numeric features (one-hot encoding or label encoding).\n",
    "  - Handle the `Sizes` column more deeply, possibly by creating size indicators or most common size tags.\n",
    "  \n",
    "- **Model Training**: Use the features to train a regression model that predicts `SellPrice` based on inputs like `MRP`, `Discount`, `Brand`, `Category`, and possibly some text-derived features.\n",
    "\n",
    "\n",
    "This EDA has helped shape a solid foundation for building that pricing engine.\n",
    "\n",
    "*****\n",
    "\n",
    "###  Saved Cleaned Dataset\n",
    "The cleaned dataset was saved as:\n",
    "\n",
    "```python\n",
    "df.to_csv(\"/kaggle/working/Cleaned_FashionDataset.csv\", index=False)\n"
   ]
  }
 ],
 "metadata": {
  "kaggle": {
   "accelerator": "none",
   "dataSources": [
    {
     "datasetId": 7457552,
     "sourceId": 11867439,
     "sourceType": "datasetVersion"
    }
   ],
   "dockerImageVersionId": 31040,
   "isGpuEnabled": false,
   "isInternetEnabled": true,
   "language": "python",
   "sourceType": "notebook"
  },
  "kernelspec": {
   "display_name": "Python 3",
   "language": "python",
   "name": "python3"
  },
  "language_info": {
   "codemirror_mode": {
    "name": "ipython",
    "version": 3
   },
   "file_extension": ".py",
   "mimetype": "text/x-python",
   "name": "python",
   "nbconvert_exporter": "python",
   "pygments_lexer": "ipython3",
   "version": "3.11.11"
  }
 },
 "nbformat": 4,
 "nbformat_minor": 4
}
