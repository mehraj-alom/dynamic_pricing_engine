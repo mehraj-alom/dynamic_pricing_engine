{
 "cells": [
  {
   "cell_type": "code",
   "execution_count": null,
   "id": "d18b89ce",
   "metadata": {
    "_cell_guid": "b1076dfc-b9ad-4769-8c92-a6c4dae69d19",
    "_uuid": "8f2839f25d086af736a60e9eeb907d3b93b6e0e5",
    "execution": {
     "iopub.execute_input": "2025-05-23T16:51:15.545519Z",
     "iopub.status.busy": "2025-05-23T16:51:15.545167Z",
     "iopub.status.idle": "2025-05-23T16:51:17.682910Z",
     "shell.execute_reply": "2025-05-23T16:51:17.681756Z"
    },
    "papermill": {
     "duration": 2.147792,
     "end_time": "2025-05-23T16:51:17.684807",
     "exception": false,
     "start_time": "2025-05-23T16:51:15.537015",
     "status": "completed"
    },
    "tags": []
   },
   "outputs": [],
   "source": [
    "# This Python 3 environment comes with many helpful analytics libraries installed\n",
    "# It is defined by the kaggle/python Docker image: https://github.com/kaggle/docker-python\n",
    "# For example, here's several helpful packages to load\n",
    "\n",
    "import numpy as np # linear algebra\n",
    "import pandas as pd # data processing, CSV file I/O (e.g. pd.read_csv)\n",
    "\n",
    "# Input data files are available in the read-only \"../input/\" directory\n",
    "# For example, running this (by clicking run or pressing Shift+Enter) will list all files under the input directory\n",
    "\n",
    "import os\n",
    "for dirname, _, filenames in os.walk('/kaggle/input'):\n",
    "    for filename in filenames:\n",
    "        print(os.path.join(dirname, filename))\n",
    "\n",
    "# You can write up to 20GB to the current directory (/kaggle/working/) that gets preserved as output when you create a version using \"Save & Run All\" \n",
    "# You can also write temporary files to /kaggle/temp/, but they won't be saved outside of the current session"
   ]
  },
  {
   "cell_type": "code",
   "execution_count": null,
   "id": "e43a3935",
   "metadata": {
    "execution": {
     "iopub.execute_input": "2025-05-23T16:51:17.697903Z",
     "iopub.status.busy": "2025-05-23T16:51:17.697288Z",
     "iopub.status.idle": "2025-05-23T16:51:20.083734Z",
     "shell.execute_reply": "2025-05-23T16:51:20.082411Z"
    },
    "papermill": {
     "duration": 2.395415,
     "end_time": "2025-05-23T16:51:20.085618",
     "exception": false,
     "start_time": "2025-05-23T16:51:17.690203",
     "status": "completed"
    },
    "tags": []
   },
   "outputs": [],
   "source": [
    "import pandas as pd \n",
    "import numpy as np \n",
    "import matplotlib.pyplot as plt\n",
    "import seaborn as sns\n",
    "df = pd.read_csv(\"/kaggle/input/cleaned-csv-fashion/Cleaned_FashionDataset.csv\")"
   ]
  },
  {
   "cell_type": "code",
   "execution_count": null,
   "id": "fa3bee1c",
   "metadata": {
    "execution": {
     "iopub.execute_input": "2025-05-23T16:51:20.097944Z",
     "iopub.status.busy": "2025-05-23T16:51:20.097606Z",
     "iopub.status.idle": "2025-05-23T16:51:20.171330Z",
     "shell.execute_reply": "2025-05-23T16:51:20.169651Z"
    },
    "papermill": {
     "duration": 0.08226,
     "end_time": "2025-05-23T16:51:20.173292",
     "exception": false,
     "start_time": "2025-05-23T16:51:20.091032",
     "status": "completed"
    },
    "tags": []
   },
   "outputs": [],
   "source": [
    "def Know_the_df(df):\n",
    "    print(\"Info: \",df.info())\n",
    "    print(\"****************\")\n",
    "    print(\"Shape :\",df.shape)\n",
    "    print(\"****************\")\n",
    "    print(\"Description :\",df.describe())\n",
    "    print(\"****************\")\n",
    "    print(\"Sum of Null values :\",df.isnull().sum())\n",
    "    print(\"****************\")\n",
    "    print(\"Random samples :\",df.sample(10))\n",
    "Know_the_df(df)"
   ]
  },
  {
   "cell_type": "code",
   "execution_count": null,
   "id": "4495e75e",
   "metadata": {
    "execution": {
     "iopub.execute_input": "2025-05-23T16:51:20.185904Z",
     "iopub.status.busy": "2025-05-23T16:51:20.185559Z",
     "iopub.status.idle": "2025-05-23T16:51:20.208285Z",
     "shell.execute_reply": "2025-05-23T16:51:20.207183Z"
    },
    "papermill": {
     "duration": 0.031675,
     "end_time": "2025-05-23T16:51:20.210581",
     "exception": false,
     "start_time": "2025-05-23T16:51:20.178906",
     "status": "completed"
    },
    "tags": []
   },
   "outputs": [],
   "source": [
    "df.head()"
   ]
  },
  {
   "cell_type": "code",
   "execution_count": null,
   "id": "f66a91c9",
   "metadata": {
    "execution": {
     "iopub.execute_input": "2025-05-23T16:51:20.222937Z",
     "iopub.status.busy": "2025-05-23T16:51:20.222644Z",
     "iopub.status.idle": "2025-05-23T16:51:20.229696Z",
     "shell.execute_reply": "2025-05-23T16:51:20.228603Z"
    },
    "papermill": {
     "duration": 0.015152,
     "end_time": "2025-05-23T16:51:20.231427",
     "exception": false,
     "start_time": "2025-05-23T16:51:20.216275",
     "status": "completed"
    },
    "tags": []
   },
   "outputs": [],
   "source": [
    "df[\"Actual Discount\"] = pd.DataFrame(df[\"MRP\"]-df[\"SellPrice\"])"
   ]
  },
  {
   "cell_type": "code",
   "execution_count": null,
   "id": "2552881a",
   "metadata": {
    "execution": {
     "iopub.execute_input": "2025-05-23T16:51:20.246796Z",
     "iopub.status.busy": "2025-05-23T16:51:20.246014Z",
     "iopub.status.idle": "2025-05-23T16:51:20.259793Z",
     "shell.execute_reply": "2025-05-23T16:51:20.258590Z"
    },
    "papermill": {
     "duration": 0.023209,
     "end_time": "2025-05-23T16:51:20.261404",
     "exception": false,
     "start_time": "2025-05-23T16:51:20.238195",
     "status": "completed"
    },
    "tags": []
   },
   "outputs": [],
   "source": [
    "df.head()"
   ]
  },
  {
   "cell_type": "code",
   "execution_count": null,
   "id": "11525205",
   "metadata": {
    "execution": {
     "iopub.execute_input": "2025-05-23T16:51:20.275065Z",
     "iopub.status.busy": "2025-05-23T16:51:20.274733Z",
     "iopub.status.idle": "2025-05-23T16:51:20.588973Z",
     "shell.execute_reply": "2025-05-23T16:51:20.587865Z"
    },
    "papermill": {
     "duration": 0.322911,
     "end_time": "2025-05-23T16:51:20.590917",
     "exception": false,
     "start_time": "2025-05-23T16:51:20.268006",
     "status": "completed"
    },
    "tags": []
   },
   "outputs": [],
   "source": [
    "import ast\n",
    "\n",
    "# Convert string to list\n",
    "def clean_sizes(s):\n",
    "    try:\n",
    "        sizes = ast.literal_eval(s)\n",
    "        sizes = list(set([i.strip().upper() for i in sizes if i])) \n",
    "        return sizes\n",
    "    except:\n",
    "        return []\n",
    "\n",
    "df['Sizes_list'] = df['Sizes'].apply(clean_sizes)\n"
   ]
  },
  {
   "cell_type": "code",
   "execution_count": null,
   "id": "520aa2a9",
   "metadata": {
    "execution": {
     "iopub.execute_input": "2025-05-23T16:51:20.604600Z",
     "iopub.status.busy": "2025-05-23T16:51:20.604236Z",
     "iopub.status.idle": "2025-05-23T16:51:20.639725Z",
     "shell.execute_reply": "2025-05-23T16:51:20.638658Z"
    },
    "papermill": {
     "duration": 0.04477,
     "end_time": "2025-05-23T16:51:20.641556",
     "exception": false,
     "start_time": "2025-05-23T16:51:20.596786",
     "status": "completed"
    },
    "tags": []
   },
   "outputs": [],
   "source": [
    "# Common standard sizes\n",
    "size_map = {\n",
    "   'XS': ['XS', 'X-Small', 'Extra Small', 'XX-Small'],\n",
    "   'S': ['S', 'Small', '30', '32'],\n",
    "   'M': ['M', 'Medium', '34', '36'],\n",
    "   'L': ['L', 'Large', '38'],\n",
    "   'XL': ['XL', 'X-Large', '40'],\n",
    "   'XXL': ['XXL', 'XX-Large', '42'],\n",
    "   'XXXL': ['XXXL', 'XXX-Large', '44']\n",
    "}\n",
    "# Reverse the mapping: map each alias to its standard size\n",
    "reverse_map = {}\n",
    "for standard_size, aliases in size_map.items():\n",
    "    for alias in aliases:\n",
    "        reverse_map[alias.upper()] = standard_size  # Use upper for case-insensitive match\n",
    "\n",
    "#Normalize sizes in each list\n",
    "df[\"Sizes_list\"] = df[\"Sizes_list\"].apply(\n",
    "    lambda size_list: [reverse_map.get(size.upper(), size) for size in size_list]\n",
    ")\n",
    "\n",
    "#from sklearn.preprocessing import MultiLabelBinarizer\n",
    "\n",
    "#mlb = MultiLabelBinarizer()\n",
    "#size_encoded = mlb.fit_transform(df['Sizes_list'])\n",
    "\n",
    "#size_df = pd.DataFrame(size_encoded, columns=[f'Size_{s}' for s in mlb.classes_], index=df.index)\n",
    "#df = pd.concat([df, size_df], axis=1)\n"
   ]
  },
  {
   "cell_type": "code",
   "execution_count": null,
   "id": "4192b3d3",
   "metadata": {
    "execution": {
     "iopub.execute_input": "2025-05-23T16:51:20.655549Z",
     "iopub.status.busy": "2025-05-23T16:51:20.655185Z",
     "iopub.status.idle": "2025-05-23T16:51:20.670176Z",
     "shell.execute_reply": "2025-05-23T16:51:20.669162Z"
    },
    "papermill": {
     "duration": 0.024245,
     "end_time": "2025-05-23T16:51:20.671823",
     "exception": false,
     "start_time": "2025-05-23T16:51:20.647578",
     "status": "completed"
    },
    "tags": []
   },
   "outputs": [],
   "source": [
    "df.head()"
   ]
  },
  {
   "cell_type": "code",
   "execution_count": null,
   "id": "93d3fb86",
   "metadata": {
    "execution": {
     "iopub.execute_input": "2025-05-23T16:51:20.686168Z",
     "iopub.status.busy": "2025-05-23T16:51:20.685394Z",
     "iopub.status.idle": "2025-05-23T16:51:21.131599Z",
     "shell.execute_reply": "2025-05-23T16:51:21.130388Z"
    },
    "papermill": {
     "duration": 0.454549,
     "end_time": "2025-05-23T16:51:21.133391",
     "exception": false,
     "start_time": "2025-05-23T16:51:20.678842",
     "status": "completed"
    },
    "tags": []
   },
   "outputs": [],
   "source": [
    "df['Sizes_str'] = df['Sizes_list'].apply(lambda x: \" \".join(x))\n",
    "from sklearn.feature_extraction.text import TfidfVectorizer\n",
    "\n",
    "tfidf = TfidfVectorizer()\n",
    "tfidf_features = tfidf.fit_transform(df['Sizes_str'])\n"
   ]
  },
  {
   "cell_type": "code",
   "execution_count": null,
   "id": "5615026c",
   "metadata": {
    "papermill": {
     "duration": 0.006108,
     "end_time": "2025-05-23T16:51:21.145818",
     "exception": false,
     "start_time": "2025-05-23T16:51:21.139710",
     "status": "completed"
    },
    "tags": []
   },
   "outputs": [],
   "source": []
  },
  {
   "cell_type": "code",
   "execution_count": null,
   "id": "a1d06f1a",
   "metadata": {
    "execution": {
     "iopub.execute_input": "2025-05-23T16:51:21.158965Z",
     "iopub.status.busy": "2025-05-23T16:51:21.158663Z",
     "iopub.status.idle": "2025-05-23T16:51:21.164125Z",
     "shell.execute_reply": "2025-05-23T16:51:21.163060Z"
    },
    "papermill": {
     "duration": 0.014469,
     "end_time": "2025-05-23T16:51:21.165991",
     "exception": false,
     "start_time": "2025-05-23T16:51:21.151522",
     "status": "completed"
    },
    "tags": []
   },
   "outputs": [],
   "source": [
    "print(tfidf_features.shape)  # Should be (num_rows, num_unique_size_tokens)"
   ]
  },
  {
   "cell_type": "code",
   "execution_count": null,
   "id": "dd280217",
   "metadata": {
    "execution": {
     "iopub.execute_input": "2025-05-23T16:51:21.181636Z",
     "iopub.status.busy": "2025-05-23T16:51:21.181282Z",
     "iopub.status.idle": "2025-05-23T16:51:21.239787Z",
     "shell.execute_reply": "2025-05-23T16:51:21.238606Z"
    },
    "papermill": {
     "duration": 0.068476,
     "end_time": "2025-05-23T16:51:21.241484",
     "exception": false,
     "start_time": "2025-05-23T16:51:21.173008",
     "status": "completed"
    },
    "tags": []
   },
   "outputs": [],
   "source": [
    "tfidf_df = pd.DataFrame(tfidf_features.toarray(), \n",
    "                        columns=[f\"tfidf_{col}\" for col in tfidf.get_feature_names_out()],\n",
    "                        index=df.index)\n",
    "df = pd.concat([df, tfidf_df], axis=1)\n"
   ]
  },
  {
   "cell_type": "code",
   "execution_count": null,
   "id": "ff91be8f",
   "metadata": {
    "execution": {
     "iopub.execute_input": "2025-05-23T16:51:21.255167Z",
     "iopub.status.busy": "2025-05-23T16:51:21.254070Z",
     "iopub.status.idle": "2025-05-23T16:51:21.279828Z",
     "shell.execute_reply": "2025-05-23T16:51:21.278866Z"
    },
    "papermill": {
     "duration": 0.034235,
     "end_time": "2025-05-23T16:51:21.281636",
     "exception": false,
     "start_time": "2025-05-23T16:51:21.247401",
     "status": "completed"
    },
    "tags": []
   },
   "outputs": [],
   "source": [
    "df.head()"
   ]
  },
  {
   "cell_type": "markdown",
   "id": "9a86023f",
   "metadata": {
    "papermill": {
     "duration": 0.006002,
     "end_time": "2025-05-23T16:51:21.294328",
     "exception": false,
     "start_time": "2025-05-23T16:51:21.288326",
     "status": "completed"
    },
    "tags": []
   },
   "source": [
    "### Dimension increses to 100 , i think it might add a lot noise , I'll drop size for model training as it doesnot have much impact on Target(\"SellPrice)"
   ]
  },
  {
   "cell_type": "code",
   "execution_count": null,
   "id": "77083580",
   "metadata": {
    "execution": {
     "iopub.execute_input": "2025-05-23T16:51:21.308853Z",
     "iopub.status.busy": "2025-05-23T16:51:21.308499Z",
     "iopub.status.idle": "2025-05-23T16:51:21.315835Z",
     "shell.execute_reply": "2025-05-23T16:51:21.314681Z"
    },
    "papermill": {
     "duration": 0.01691,
     "end_time": "2025-05-23T16:51:21.317785",
     "exception": false,
     "start_time": "2025-05-23T16:51:21.300875",
     "status": "completed"
    },
    "tags": []
   },
   "outputs": [],
   "source": [
    "df = df[[\"BrandName\", \"Details\", \"Sizes_list\", \"MRP\", \"Category\", \"SellPrice\",\"Actual Discount\"]]\n"
   ]
  },
  {
   "cell_type": "code",
   "execution_count": null,
   "id": "8ac472be",
   "metadata": {
    "execution": {
     "iopub.execute_input": "2025-05-23T16:51:21.331911Z",
     "iopub.status.busy": "2025-05-23T16:51:21.331585Z",
     "iopub.status.idle": "2025-05-23T16:51:21.346136Z",
     "shell.execute_reply": "2025-05-23T16:51:21.344845Z"
    },
    "papermill": {
     "duration": 0.023363,
     "end_time": "2025-05-23T16:51:21.347896",
     "exception": false,
     "start_time": "2025-05-23T16:51:21.324533",
     "status": "completed"
    },
    "tags": []
   },
   "outputs": [],
   "source": [
    "df.head()"
   ]
  },
  {
   "cell_type": "code",
   "execution_count": null,
   "id": "8118f8ba",
   "metadata": {
    "execution": {
     "iopub.execute_input": "2025-05-23T16:51:21.362396Z",
     "iopub.status.busy": "2025-05-23T16:51:21.361899Z",
     "iopub.status.idle": "2025-05-23T16:51:21.558762Z",
     "shell.execute_reply": "2025-05-23T16:51:21.557659Z"
    },
    "papermill": {
     "duration": 0.20627,
     "end_time": "2025-05-23T16:51:21.560782",
     "exception": false,
     "start_time": "2025-05-23T16:51:21.354512",
     "status": "completed"
    },
    "tags": []
   },
   "outputs": [],
   "source": [
    "from sklearn.model_selection import KFold\n",
    "\n",
    "df['BrandName_target'] = np.nan \n",
    "kf = KFold(n_splits=5, shuffle=True, random_state=42)\n",
    "\n",
    "for train_idx, val_idx in kf.split(df):\n",
    "    train_df = df.iloc[train_idx]\n",
    "    val_df = df.iloc[val_idx]\n",
    "\n",
    "    brand_mean = train_df.groupby('BrandName')['SellPrice'].mean()\n",
    "    \n",
    "    df.loc[val_idx, 'BrandName_target'] = df.loc[val_idx, 'BrandName'].map(brand_mean)\n",
    "\n",
    "print(df[['BrandName', 'SellPrice', 'BrandName_target']].sample(40))"
   ]
  },
  {
   "cell_type": "code",
   "execution_count": null,
   "id": "36569ff3",
   "metadata": {
    "execution": {
     "iopub.execute_input": "2025-05-23T16:51:21.575712Z",
     "iopub.status.busy": "2025-05-23T16:51:21.575284Z",
     "iopub.status.idle": "2025-05-23T16:51:21.602748Z",
     "shell.execute_reply": "2025-05-23T16:51:21.601752Z"
    },
    "papermill": {
     "duration": 0.037207,
     "end_time": "2025-05-23T16:51:21.604437",
     "exception": false,
     "start_time": "2025-05-23T16:51:21.567230",
     "status": "completed"
    },
    "tags": []
   },
   "outputs": [],
   "source": [
    "# One-hot encode Category\n",
    "category_dummies = pd.get_dummies(df['Category'], prefix='Category',dtype='int',drop_first=True)\n",
    "df = pd.concat([df, category_dummies], axis=1)\n",
    "df.sample(8)"
   ]
  },
  {
   "cell_type": "code",
   "execution_count": null,
   "id": "6010b8a6",
   "metadata": {
    "execution": {
     "iopub.execute_input": "2025-05-23T16:51:21.619297Z",
     "iopub.status.busy": "2025-05-23T16:51:21.618889Z",
     "iopub.status.idle": "2025-05-23T16:51:21.635070Z",
     "shell.execute_reply": "2025-05-23T16:51:21.633998Z"
    },
    "papermill": {
     "duration": 0.02567,
     "end_time": "2025-05-23T16:51:21.637003",
     "exception": false,
     "start_time": "2025-05-23T16:51:21.611333",
     "status": "completed"
    },
    "tags": []
   },
   "outputs": [],
   "source": [
    "drop_cols = ['Sizes_list', 'BrandName', 'Category','Actual Discount']\n",
    "df = df.drop(columns=drop_cols)\n",
    "df.head()"
   ]
  },
  {
   "cell_type": "code",
   "execution_count": null,
   "id": "397351d3",
   "metadata": {
    "execution": {
     "iopub.execute_input": "2025-05-23T16:51:21.652920Z",
     "iopub.status.busy": "2025-05-23T16:51:21.652563Z",
     "iopub.status.idle": "2025-05-23T16:51:21.923588Z",
     "shell.execute_reply": "2025-05-23T16:51:21.922337Z"
    },
    "papermill": {
     "duration": 0.2809,
     "end_time": "2025-05-23T16:51:21.925588",
     "exception": false,
     "start_time": "2025-05-23T16:51:21.644688",
     "status": "completed"
    },
    "tags": []
   },
   "outputs": [],
   "source": [
    "from sklearn.feature_extraction.text import TfidfVectorizer\n",
    "\n",
    "tfidf_details = TfidfVectorizer(max_features=100, stop_words='english')  \n",
    "details_tfidf_matrix = tfidf_details.fit_transform(df['Details'])\n",
    "\n",
    "\n",
    "details_tfidf_df = pd.DataFrame(\n",
    "    details_tfidf_matrix.toarray(),\n",
    "    columns=[f\"tfidf_details_{word}\" for word in tfidf_details.get_feature_names_out()],\n",
    "    index=df.index\n",
    ")\n",
    "\n",
    "df = pd.concat([df, details_tfidf_df], axis=1)\n",
    "\n",
    "df.head()"
   ]
  },
  {
   "cell_type": "code",
   "execution_count": null,
   "id": "e1814d78",
   "metadata": {
    "papermill": {
     "duration": 0.007101,
     "end_time": "2025-05-23T16:51:21.942356",
     "exception": false,
     "start_time": "2025-05-23T16:51:21.935255",
     "status": "completed"
    },
    "tags": []
   },
   "outputs": [],
   "source": []
  },
  {
   "cell_type": "code",
   "execution_count": null,
   "id": "444a15c7",
   "metadata": {
    "execution": {
     "iopub.execute_input": "2025-05-23T16:51:21.958270Z",
     "iopub.status.busy": "2025-05-23T16:51:21.957911Z",
     "iopub.status.idle": "2025-05-23T16:51:22.712339Z",
     "shell.execute_reply": "2025-05-23T16:51:22.709977Z"
    },
    "papermill": {
     "duration": 0.764937,
     "end_time": "2025-05-23T16:51:22.714444",
     "exception": false,
     "start_time": "2025-05-23T16:51:21.949507",
     "status": "completed"
    },
    "tags": []
   },
   "outputs": [],
   "source": [
    "from sklearn.decomposition import PCA\n",
    "#Identify all TF-IDF columns\n",
    "tfidf_cols = [col for col in df.columns if col.startswith(\"tfidf_details_\")]\n",
    "\n",
    "# Reduce to, say, 30 components — tune as needed\n",
    "pca = PCA(n_components=30)\n",
    "pca_features = pca.fit_transform(df[tfidf_cols])\n"
   ]
  },
  {
   "cell_type": "code",
   "execution_count": null,
   "id": "20c3e847",
   "metadata": {
    "execution": {
     "iopub.execute_input": "2025-05-23T16:51:22.732621Z",
     "iopub.status.busy": "2025-05-23T16:51:22.732302Z",
     "iopub.status.idle": "2025-05-23T16:51:22.762584Z",
     "shell.execute_reply": "2025-05-23T16:51:22.761681Z"
    },
    "papermill": {
     "duration": 0.041091,
     "end_time": "2025-05-23T16:51:22.764569",
     "exception": false,
     "start_time": "2025-05-23T16:51:22.723478",
     "status": "completed"
    },
    "tags": []
   },
   "outputs": [],
   "source": [
    "pca_df = pd.DataFrame(\n",
    "    pca_features,\n",
    "    columns=[f'pca_details_{i+1}' for i in range(pca_features.shape[1])],\n",
    "    index=df.index\n",
    ")\n",
    "\n",
    "df = pd.concat([df, pca_df], axis=1)"
   ]
  },
  {
   "cell_type": "code",
   "execution_count": null,
   "id": "bdb6f557",
   "metadata": {
    "execution": {
     "iopub.execute_input": "2025-05-23T16:51:22.781112Z",
     "iopub.status.busy": "2025-05-23T16:51:22.780775Z",
     "iopub.status.idle": "2025-05-23T16:51:22.789642Z",
     "shell.execute_reply": "2025-05-23T16:51:22.788598Z"
    },
    "papermill": {
     "duration": 0.018654,
     "end_time": "2025-05-23T16:51:22.791313",
     "exception": false,
     "start_time": "2025-05-23T16:51:22.772659",
     "status": "completed"
    },
    "tags": []
   },
   "outputs": [],
   "source": [
    "df.drop(columns=tfidf_cols, inplace=True)"
   ]
  },
  {
   "cell_type": "code",
   "execution_count": null,
   "id": "193bebed",
   "metadata": {
    "execution": {
     "iopub.execute_input": "2025-05-23T16:51:22.807721Z",
     "iopub.status.busy": "2025-05-23T16:51:22.807398Z",
     "iopub.status.idle": "2025-05-23T16:51:22.813251Z",
     "shell.execute_reply": "2025-05-23T16:51:22.812364Z"
    },
    "papermill": {
     "duration": 0.016123,
     "end_time": "2025-05-23T16:51:22.814863",
     "exception": false,
     "start_time": "2025-05-23T16:51:22.798740",
     "status": "completed"
    },
    "tags": []
   },
   "outputs": [],
   "source": [
    "df.shape"
   ]
  },
  {
   "cell_type": "code",
   "execution_count": null,
   "id": "55cc783e",
   "metadata": {
    "execution": {
     "iopub.execute_input": "2025-05-23T16:51:22.831807Z",
     "iopub.status.busy": "2025-05-23T16:51:22.831406Z",
     "iopub.status.idle": "2025-05-23T16:51:22.852461Z",
     "shell.execute_reply": "2025-05-23T16:51:22.851375Z"
    },
    "papermill": {
     "duration": 0.03251,
     "end_time": "2025-05-23T16:51:22.854617",
     "exception": false,
     "start_time": "2025-05-23T16:51:22.822107",
     "status": "completed"
    },
    "tags": []
   },
   "outputs": [],
   "source": [
    "df.head()"
   ]
  },
  {
   "cell_type": "code",
   "execution_count": null,
   "id": "4abd49ea",
   "metadata": {
    "execution": {
     "iopub.execute_input": "2025-05-23T16:51:22.871805Z",
     "iopub.status.busy": "2025-05-23T16:51:22.871299Z",
     "iopub.status.idle": "2025-05-23T16:51:22.893559Z",
     "shell.execute_reply": "2025-05-23T16:51:22.892190Z"
    },
    "papermill": {
     "duration": 0.032999,
     "end_time": "2025-05-23T16:51:22.895478",
     "exception": false,
     "start_time": "2025-05-23T16:51:22.862479",
     "status": "completed"
    },
    "tags": []
   },
   "outputs": [],
   "source": [
    "df.drop(columns=[\"Details\"], inplace=True)\n",
    "df.head()"
   ]
  },
  {
   "cell_type": "code",
   "execution_count": null,
   "id": "413815f9",
   "metadata": {
    "execution": {
     "iopub.execute_input": "2025-05-23T16:51:22.913648Z",
     "iopub.status.busy": "2025-05-23T16:51:22.913321Z",
     "iopub.status.idle": "2025-05-23T16:51:24.287684Z",
     "shell.execute_reply": "2025-05-23T16:51:24.286398Z"
    },
    "papermill": {
     "duration": 1.386327,
     "end_time": "2025-05-23T16:51:24.289779",
     "exception": false,
     "start_time": "2025-05-23T16:51:22.903452",
     "status": "completed"
    },
    "tags": []
   },
   "outputs": [],
   "source": [
    "df.to_csv(\"/kaggle/working/processed_fe_done_fashion_data.csv\", index=False)"
   ]
  }
 ],
 "metadata": {
  "kaggle": {
   "accelerator": "none",
   "dataSources": [
    {
     "datasetId": 7489751,
     "sourceId": 11913393,
     "sourceType": "datasetVersion"
    }
   ],
   "dockerImageVersionId": 31040,
   "isGpuEnabled": false,
   "isInternetEnabled": true,
   "language": "python",
   "sourceType": "notebook"
  },
  "kernelspec": {
   "display_name": "Python 3",
   "language": "python",
   "name": "python3"
  },
  "language_info": {
   "codemirror_mode": {
    "name": "ipython",
    "version": 3
   },
   "file_extension": ".py",
   "mimetype": "text/x-python",
   "name": "python",
   "nbconvert_exporter": "python",
   "pygments_lexer": "ipython3",
   "version": "3.11.11"
  },
  "papermill": {
   "default_parameters": {},
   "duration": 14.782316,
   "end_time": "2025-05-23T16:51:25.019037",
   "environment_variables": {},
   "exception": null,
   "input_path": "__notebook__.ipynb",
   "output_path": "__notebook__.ipynb",
   "parameters": {},
   "start_time": "2025-05-23T16:51:10.236721",
   "version": "2.6.0"
  }
 },
 "nbformat": 4,
 "nbformat_minor": 5
}
